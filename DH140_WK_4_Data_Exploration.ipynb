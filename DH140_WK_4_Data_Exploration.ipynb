{
 "cells": [
  {
   "cell_type": "markdown",
   "metadata": {},
   "source": [
    "# Investigating the Economic Cost Per Event and Per Athlete of the Olympics\n",
    "## By Juliette Oliver\n",
    "\n",
    "In order to answer our research question, \"What are the widespread social and economic impacts of the Olympic games\", I am going to be looking at the economic cost of the Summer and Winter Olympic games since 1964. Specifically, I will be evaluating the per event cost and the per athlete cost of individual games in order to see the overall trend in the price of hosting olympics, which could lead us to understand then the reuslting effects this may have on future Olympic games.\n"
   ]
  },
  {
   "cell_type": "markdown",
   "metadata": {},
   "source": [
    "### Uploading and cleaning the data\n",
    "Action: Firstly, I am going to import the necissary packages\n",
    "Result: This will allow me to do specific funtctions and commands that will help me analyze my data."
   ]
  },
  {
   "cell_type": "code",
   "execution_count": 1,
   "metadata": {},
   "outputs": [],
   "source": [
    "import pandas as pd"
   ]
  },
  {
   "cell_type": "code",
   "execution_count": 2,
   "metadata": {},
   "outputs": [],
   "source": [
    "import geopandas as gpd"
   ]
  },
  {
   "cell_type": "code",
   "execution_count": 3,
   "metadata": {},
   "outputs": [],
   "source": [
    "import contextily as ctx"
   ]
  },
  {
   "cell_type": "code",
   "execution_count": 4,
   "metadata": {},
   "outputs": [],
   "source": [
    "import matplotlib.pyplot as plt"
   ]
  },
  {
   "cell_type": "markdown",
   "metadata": {},
   "source": [
    "Action: I am going to import my CSV file intot he Jupyter Notebook\n",
    "Result: I will now have a database that I can work with."
   ]
  },
  {
   "cell_type": "code",
   "execution_count": 5,
   "metadata": {},
   "outputs": [],
   "source": [
    "df = pd.read_csv('Cost_event_athlete.csv')"
   ]
  },
  {
   "cell_type": "markdown",
   "metadata": {},
   "source": [
    "Action: I am using the .info button to show me a rough outline of my data\n",
    "Result: I will be able to see general information, such ad Dtype of data and Column names that I can use to go forward in my exploration."
   ]
  },
  {
   "cell_type": "code",
   "execution_count": 6,
   "metadata": {},
   "outputs": [
    {
     "name": "stdout",
     "output_type": "stream",
     "text": [
      "<class 'pandas.core.frame.DataFrame'>\n",
      "RangeIndex: 25 entries, 0 to 24\n",
      "Data columns (total 7 columns):\n",
      " #   Column                      Non-Null Count  Dtype  \n",
      "---  ------                      --------------  -----  \n",
      " 0   Games                       25 non-null     object \n",
      " 1   Year                        25 non-null     int64  \n",
      " 2   Country                     25 non-null     object \n",
      " 3   Type                        25 non-null     object \n",
      " 4   Cost per event, mio. USD    25 non-null     float64\n",
      " 5   Cost per athlete, mio. USD  25 non-null     float64\n",
      " 6   event,                      0 non-null      float64\n",
      "dtypes: float64(3), int64(1), object(3)\n",
      "memory usage: 1.5+ KB\n"
     ]
    }
   ],
   "source": [
    "df.info()"
   ]
  },
  {
   "cell_type": "markdown",
   "metadata": {},
   "source": [
    "Action:Inputting Df.head \n",
    "Result: Will allow me to see the first 20 rows of my data"
   ]
  },
  {
   "cell_type": "code",
   "execution_count": 7,
   "metadata": {},
   "outputs": [
    {
     "data": {
      "text/html": [
       "<div>\n",
       "<style scoped>\n",
       "    .dataframe tbody tr th:only-of-type {\n",
       "        vertical-align: middle;\n",
       "    }\n",
       "\n",
       "    .dataframe tbody tr th {\n",
       "        vertical-align: top;\n",
       "    }\n",
       "\n",
       "    .dataframe thead th {\n",
       "        text-align: right;\n",
       "    }\n",
       "</style>\n",
       "<table border=\"1\" class=\"dataframe\">\n",
       "  <thead>\n",
       "    <tr style=\"text-align: right;\">\n",
       "      <th></th>\n",
       "      <th>Games</th>\n",
       "      <th>Year</th>\n",
       "      <th>Country</th>\n",
       "      <th>Type</th>\n",
       "      <th>Cost per event, mio. USD</th>\n",
       "      <th>Cost per athlete, mio. USD</th>\n",
       "      <th>event,</th>\n",
       "    </tr>\n",
       "  </thead>\n",
       "  <tbody>\n",
       "    <tr>\n",
       "      <th>0</th>\n",
       "      <td>Tokyo</td>\n",
       "      <td>1964</td>\n",
       "      <td>Japan</td>\n",
       "      <td>Summer</td>\n",
       "      <td>1.7</td>\n",
       "      <td>0.10</td>\n",
       "      <td>NaN</td>\n",
       "    </tr>\n",
       "    <tr>\n",
       "      <th>1</th>\n",
       "      <td>Munich</td>\n",
       "      <td>1972</td>\n",
       "      <td>Germany</td>\n",
       "      <td>Summer</td>\n",
       "      <td>5.2</td>\n",
       "      <td>0.10</td>\n",
       "      <td>NaN</td>\n",
       "    </tr>\n",
       "    <tr>\n",
       "      <th>2</th>\n",
       "      <td>Montreal</td>\n",
       "      <td>1976</td>\n",
       "      <td>Canada</td>\n",
       "      <td>Summer</td>\n",
       "      <td>30.8</td>\n",
       "      <td>1.00</td>\n",
       "      <td>NaN</td>\n",
       "    </tr>\n",
       "    <tr>\n",
       "      <th>3</th>\n",
       "      <td>Moscow</td>\n",
       "      <td>1980</td>\n",
       "      <td>Soviet Union</td>\n",
       "      <td>Summer</td>\n",
       "      <td>31.2</td>\n",
       "      <td>1.20</td>\n",
       "      <td>NaN</td>\n",
       "    </tr>\n",
       "    <tr>\n",
       "      <th>4</th>\n",
       "      <td>Los Angeles</td>\n",
       "      <td>1984</td>\n",
       "      <td>United States</td>\n",
       "      <td>Summer</td>\n",
       "      <td>3.3</td>\n",
       "      <td>0.10</td>\n",
       "      <td>NaN</td>\n",
       "    </tr>\n",
       "    <tr>\n",
       "      <th>5</th>\n",
       "      <td>Barcelona</td>\n",
       "      <td>1992</td>\n",
       "      <td>Spain</td>\n",
       "      <td>Summer</td>\n",
       "      <td>37.7</td>\n",
       "      <td>1.00</td>\n",
       "      <td>NaN</td>\n",
       "    </tr>\n",
       "    <tr>\n",
       "      <th>6</th>\n",
       "      <td>Atlanta</td>\n",
       "      <td>1996</td>\n",
       "      <td>United States</td>\n",
       "      <td>Summer</td>\n",
       "      <td>15.3</td>\n",
       "      <td>0.40</td>\n",
       "      <td>NaN</td>\n",
       "    </tr>\n",
       "    <tr>\n",
       "      <th>7</th>\n",
       "      <td>Sydney</td>\n",
       "      <td>2000</td>\n",
       "      <td>Australia</td>\n",
       "      <td>Summer</td>\n",
       "      <td>16.8</td>\n",
       "      <td>0.50</td>\n",
       "      <td>NaN</td>\n",
       "    </tr>\n",
       "    <tr>\n",
       "      <th>8</th>\n",
       "      <td>Athens</td>\n",
       "      <td>2004</td>\n",
       "      <td>Greece</td>\n",
       "      <td>Summer</td>\n",
       "      <td>9.8</td>\n",
       "      <td>0.30</td>\n",
       "      <td>NaN</td>\n",
       "    </tr>\n",
       "    <tr>\n",
       "      <th>9</th>\n",
       "      <td>Beijing</td>\n",
       "      <td>2008</td>\n",
       "      <td>China</td>\n",
       "      <td>Summer</td>\n",
       "      <td>22.5</td>\n",
       "      <td>0.60</td>\n",
       "      <td>NaN</td>\n",
       "    </tr>\n",
       "    <tr>\n",
       "      <th>10</th>\n",
       "      <td>London</td>\n",
       "      <td>2012</td>\n",
       "      <td>United Kingdom</td>\n",
       "      <td>Summer</td>\n",
       "      <td>49.5</td>\n",
       "      <td>1.40</td>\n",
       "      <td>NaN</td>\n",
       "    </tr>\n",
       "    <tr>\n",
       "      <th>11</th>\n",
       "      <td>Rio</td>\n",
       "      <td>2016</td>\n",
       "      <td>Brazil</td>\n",
       "      <td>Summer</td>\n",
       "      <td>14.9</td>\n",
       "      <td>0.40</td>\n",
       "      <td>NaN</td>\n",
       "    </tr>\n",
       "    <tr>\n",
       "      <th>12</th>\n",
       "      <td>Innsbruck</td>\n",
       "      <td>1964</td>\n",
       "      <td>Austria</td>\n",
       "      <td>Winter</td>\n",
       "      <td>0.6</td>\n",
       "      <td>0.02</td>\n",
       "      <td>NaN</td>\n",
       "    </tr>\n",
       "    <tr>\n",
       "      <th>13</th>\n",
       "      <td>Grenoble</td>\n",
       "      <td>1968</td>\n",
       "      <td>France</td>\n",
       "      <td>Winter</td>\n",
       "      <td>25.4</td>\n",
       "      <td>0.80</td>\n",
       "      <td>NaN</td>\n",
       "    </tr>\n",
       "    <tr>\n",
       "      <th>14</th>\n",
       "      <td>Sapporo</td>\n",
       "      <td>1972</td>\n",
       "      <td>Japan</td>\n",
       "      <td>Winter</td>\n",
       "      <td>3.4</td>\n",
       "      <td>0.10</td>\n",
       "      <td>NaN</td>\n",
       "    </tr>\n",
       "    <tr>\n",
       "      <th>15</th>\n",
       "      <td>Innsbruck</td>\n",
       "      <td>1976</td>\n",
       "      <td>Austria</td>\n",
       "      <td>Winter</td>\n",
       "      <td>3.2</td>\n",
       "      <td>0.10</td>\n",
       "      <td>NaN</td>\n",
       "    </tr>\n",
       "    <tr>\n",
       "      <th>16</th>\n",
       "      <td>Lake Placid</td>\n",
       "      <td>1980</td>\n",
       "      <td>United States</td>\n",
       "      <td>Winter</td>\n",
       "      <td>11.5</td>\n",
       "      <td>0.40</td>\n",
       "      <td>NaN</td>\n",
       "    </tr>\n",
       "    <tr>\n",
       "      <th>17</th>\n",
       "      <td>Calgary</td>\n",
       "      <td>1988</td>\n",
       "      <td>Canada</td>\n",
       "      <td>Winter</td>\n",
       "      <td>24.1</td>\n",
       "      <td>0.80</td>\n",
       "      <td>NaN</td>\n",
       "    </tr>\n",
       "    <tr>\n",
       "      <th>18</th>\n",
       "      <td>Albertville</td>\n",
       "      <td>1992</td>\n",
       "      <td>France</td>\n",
       "      <td>Winter</td>\n",
       "      <td>35.0</td>\n",
       "      <td>1.10</td>\n",
       "      <td>NaN</td>\n",
       "    </tr>\n",
       "    <tr>\n",
       "      <th>19</th>\n",
       "      <td>Lillehammer</td>\n",
       "      <td>1994</td>\n",
       "      <td>Norway</td>\n",
       "      <td>Winter</td>\n",
       "      <td>36.5</td>\n",
       "      <td>1.30</td>\n",
       "      <td>NaN</td>\n",
       "    </tr>\n",
       "  </tbody>\n",
       "</table>\n",
       "</div>"
      ],
      "text/plain": [
       "          Games  Year         Country    Type  Cost per event, mio. USD  \\\n",
       "0         Tokyo  1964           Japan  Summer                       1.7   \n",
       "1        Munich  1972         Germany  Summer                       5.2   \n",
       "2      Montreal  1976          Canada  Summer                      30.8   \n",
       "3        Moscow  1980    Soviet Union  Summer                      31.2   \n",
       "4   Los Angeles  1984   United States  Summer                       3.3   \n",
       "5     Barcelona  1992           Spain  Summer                      37.7   \n",
       "6       Atlanta  1996   United States  Summer                      15.3   \n",
       "7        Sydney  2000       Australia  Summer                      16.8   \n",
       "8        Athens  2004          Greece  Summer                       9.8   \n",
       "9       Beijing  2008           China  Summer                      22.5   \n",
       "10       London  2012  United Kingdom  Summer                      49.5   \n",
       "11          Rio  2016          Brazil  Summer                      14.9   \n",
       "12    Innsbruck  1964         Austria  Winter                       0.6   \n",
       "13     Grenoble  1968          France  Winter                      25.4   \n",
       "14      Sapporo  1972           Japan  Winter                       3.4   \n",
       "15    Innsbruck  1976         Austria  Winter                       3.2   \n",
       "16  Lake Placid  1980   United States  Winter                      11.5   \n",
       "17      Calgary  1988          Canada  Winter                      24.1   \n",
       "18  Albertville  1992          France  Winter                      35.0   \n",
       "19  Lillehammer  1994          Norway  Winter                      36.5   \n",
       "\n",
       "    Cost per athlete, mio. USD  event,  \n",
       "0                         0.10     NaN  \n",
       "1                         0.10     NaN  \n",
       "2                         1.00     NaN  \n",
       "3                         1.20     NaN  \n",
       "4                         0.10     NaN  \n",
       "5                         1.00     NaN  \n",
       "6                         0.40     NaN  \n",
       "7                         0.50     NaN  \n",
       "8                         0.30     NaN  \n",
       "9                         0.60     NaN  \n",
       "10                        1.40     NaN  \n",
       "11                        0.40     NaN  \n",
       "12                        0.02     NaN  \n",
       "13                        0.80     NaN  \n",
       "14                        0.10     NaN  \n",
       "15                        0.10     NaN  \n",
       "16                        0.40     NaN  \n",
       "17                        0.80     NaN  \n",
       "18                        1.10     NaN  \n",
       "19                        1.30     NaN  "
      ]
     },
     "execution_count": 7,
     "metadata": {},
     "output_type": "execute_result"
    }
   ],
   "source": [
    "df.head(20)"
   ]
  },
  {
   "cell_type": "markdown",
   "metadata": {},
   "source": [
    "Action: Dropping all rows with complete \"NAs\"\n",
    "Result: This will help me clean up my data and avoid rows with no data at all"
   ]
  },
  {
   "cell_type": "code",
   "execution_count": 8,
   "metadata": {},
   "outputs": [],
   "source": [
    "df = df.dropna(axis=0,how=\"all\")"
   ]
  },
  {
   "cell_type": "markdown",
   "metadata": {},
   "source": [
    "Action: Upon second inspection, I see that the :\"event,\" column is completely NA, so I will drop it now sonce it is not of any use.\n",
    "Result: This will help me clean my data."
   ]
  },
  {
   "cell_type": "code",
   "execution_count": 9,
   "metadata": {},
   "outputs": [
    {
     "data": {
      "text/html": [
       "<div>\n",
       "<style scoped>\n",
       "    .dataframe tbody tr th:only-of-type {\n",
       "        vertical-align: middle;\n",
       "    }\n",
       "\n",
       "    .dataframe tbody tr th {\n",
       "        vertical-align: top;\n",
       "    }\n",
       "\n",
       "    .dataframe thead th {\n",
       "        text-align: right;\n",
       "    }\n",
       "</style>\n",
       "<table border=\"1\" class=\"dataframe\">\n",
       "  <thead>\n",
       "    <tr style=\"text-align: right;\">\n",
       "      <th></th>\n",
       "      <th>Games</th>\n",
       "      <th>Year</th>\n",
       "      <th>Country</th>\n",
       "      <th>Type</th>\n",
       "      <th>Cost per event, mio. USD</th>\n",
       "      <th>Cost per athlete, mio. USD</th>\n",
       "      <th>event,</th>\n",
       "    </tr>\n",
       "  </thead>\n",
       "  <tbody>\n",
       "    <tr>\n",
       "      <th>0</th>\n",
       "      <td>Tokyo</td>\n",
       "      <td>1964</td>\n",
       "      <td>Japan</td>\n",
       "      <td>Summer</td>\n",
       "      <td>1.7</td>\n",
       "      <td>0.1</td>\n",
       "      <td>NaN</td>\n",
       "    </tr>\n",
       "    <tr>\n",
       "      <th>1</th>\n",
       "      <td>Munich</td>\n",
       "      <td>1972</td>\n",
       "      <td>Germany</td>\n",
       "      <td>Summer</td>\n",
       "      <td>5.2</td>\n",
       "      <td>0.1</td>\n",
       "      <td>NaN</td>\n",
       "    </tr>\n",
       "    <tr>\n",
       "      <th>2</th>\n",
       "      <td>Montreal</td>\n",
       "      <td>1976</td>\n",
       "      <td>Canada</td>\n",
       "      <td>Summer</td>\n",
       "      <td>30.8</td>\n",
       "      <td>1.0</td>\n",
       "      <td>NaN</td>\n",
       "    </tr>\n",
       "    <tr>\n",
       "      <th>3</th>\n",
       "      <td>Moscow</td>\n",
       "      <td>1980</td>\n",
       "      <td>Soviet Union</td>\n",
       "      <td>Summer</td>\n",
       "      <td>31.2</td>\n",
       "      <td>1.2</td>\n",
       "      <td>NaN</td>\n",
       "    </tr>\n",
       "    <tr>\n",
       "      <th>4</th>\n",
       "      <td>Los Angeles</td>\n",
       "      <td>1984</td>\n",
       "      <td>United States</td>\n",
       "      <td>Summer</td>\n",
       "      <td>3.3</td>\n",
       "      <td>0.1</td>\n",
       "      <td>NaN</td>\n",
       "    </tr>\n",
       "  </tbody>\n",
       "</table>\n",
       "</div>"
      ],
      "text/plain": [
       "         Games  Year        Country    Type  Cost per event, mio. USD  \\\n",
       "0        Tokyo  1964          Japan  Summer                       1.7   \n",
       "1       Munich  1972        Germany  Summer                       5.2   \n",
       "2     Montreal  1976         Canada  Summer                      30.8   \n",
       "3       Moscow  1980   Soviet Union  Summer                      31.2   \n",
       "4  Los Angeles  1984  United States  Summer                       3.3   \n",
       "\n",
       "   Cost per athlete, mio. USD  event,  \n",
       "0                         0.1     NaN  \n",
       "1                         0.1     NaN  \n",
       "2                         1.0     NaN  \n",
       "3                         1.2     NaN  \n",
       "4                         0.1     NaN  "
      ]
     },
     "execution_count": 9,
     "metadata": {},
     "output_type": "execute_result"
    }
   ],
   "source": [
    "df.head(5)"
   ]
  },
  {
   "cell_type": "code",
   "execution_count": 10,
   "metadata": {},
   "outputs": [],
   "source": [
    "columns_to_drop = ['event,']"
   ]
  },
  {
   "cell_type": "markdown",
   "metadata": {},
   "source": [
    "Action: Renaming df to include the dropped column\n",
    "Result: I can now work with my data devoid of the NA column"
   ]
  },
  {
   "cell_type": "code",
   "execution_count": 11,
   "metadata": {},
   "outputs": [
    {
     "data": {
      "text/html": [
       "<div>\n",
       "<style scoped>\n",
       "    .dataframe tbody tr th:only-of-type {\n",
       "        vertical-align: middle;\n",
       "    }\n",
       "\n",
       "    .dataframe tbody tr th {\n",
       "        vertical-align: top;\n",
       "    }\n",
       "\n",
       "    .dataframe thead th {\n",
       "        text-align: right;\n",
       "    }\n",
       "</style>\n",
       "<table border=\"1\" class=\"dataframe\">\n",
       "  <thead>\n",
       "    <tr style=\"text-align: right;\">\n",
       "      <th></th>\n",
       "      <th>Games</th>\n",
       "      <th>Year</th>\n",
       "      <th>Country</th>\n",
       "      <th>Type</th>\n",
       "      <th>Cost per event, mio. USD</th>\n",
       "      <th>Cost per athlete, mio. USD</th>\n",
       "    </tr>\n",
       "  </thead>\n",
       "  <tbody>\n",
       "    <tr>\n",
       "      <th>0</th>\n",
       "      <td>Tokyo</td>\n",
       "      <td>1964</td>\n",
       "      <td>Japan</td>\n",
       "      <td>Summer</td>\n",
       "      <td>1.7</td>\n",
       "      <td>0.1</td>\n",
       "    </tr>\n",
       "    <tr>\n",
       "      <th>1</th>\n",
       "      <td>Munich</td>\n",
       "      <td>1972</td>\n",
       "      <td>Germany</td>\n",
       "      <td>Summer</td>\n",
       "      <td>5.2</td>\n",
       "      <td>0.1</td>\n",
       "    </tr>\n",
       "    <tr>\n",
       "      <th>2</th>\n",
       "      <td>Montreal</td>\n",
       "      <td>1976</td>\n",
       "      <td>Canada</td>\n",
       "      <td>Summer</td>\n",
       "      <td>30.8</td>\n",
       "      <td>1.0</td>\n",
       "    </tr>\n",
       "    <tr>\n",
       "      <th>3</th>\n",
       "      <td>Moscow</td>\n",
       "      <td>1980</td>\n",
       "      <td>Soviet Union</td>\n",
       "      <td>Summer</td>\n",
       "      <td>31.2</td>\n",
       "      <td>1.2</td>\n",
       "    </tr>\n",
       "    <tr>\n",
       "      <th>4</th>\n",
       "      <td>Los Angeles</td>\n",
       "      <td>1984</td>\n",
       "      <td>United States</td>\n",
       "      <td>Summer</td>\n",
       "      <td>3.3</td>\n",
       "      <td>0.1</td>\n",
       "    </tr>\n",
       "  </tbody>\n",
       "</table>\n",
       "</div>"
      ],
      "text/plain": [
       "         Games  Year        Country    Type  Cost per event, mio. USD  \\\n",
       "0        Tokyo  1964          Japan  Summer                       1.7   \n",
       "1       Munich  1972        Germany  Summer                       5.2   \n",
       "2     Montreal  1976         Canada  Summer                      30.8   \n",
       "3       Moscow  1980   Soviet Union  Summer                      31.2   \n",
       "4  Los Angeles  1984  United States  Summer                       3.3   \n",
       "\n",
       "   Cost per athlete, mio. USD  \n",
       "0                         0.1  \n",
       "1                         0.1  \n",
       "2                         1.0  \n",
       "3                         1.2  \n",
       "4                         0.1  "
      ]
     },
     "execution_count": 11,
     "metadata": {},
     "output_type": "execute_result"
    }
   ],
   "source": [
    "df = df.drop(columns_to_drop,axis=1)\n",
    "df.head()"
   ]
  },
  {
   "cell_type": "markdown",
   "metadata": {},
   "source": [
    "Action: Replacing \"Societ Union\" with \"Russia\" since the USSR has dissolved\n",
    "Result: This will allow me to later recieve a 3 letter alpha country code that I can use to map the countries later. Also- because the games in the Soviet Union were in Moscow, or present day Russia, I decided to change it for organizational purposes."
   ]
  },
  {
   "cell_type": "code",
   "execution_count": 12,
   "metadata": {},
   "outputs": [
    {
     "data": {
      "text/html": [
       "<div>\n",
       "<style scoped>\n",
       "    .dataframe tbody tr th:only-of-type {\n",
       "        vertical-align: middle;\n",
       "    }\n",
       "\n",
       "    .dataframe tbody tr th {\n",
       "        vertical-align: top;\n",
       "    }\n",
       "\n",
       "    .dataframe thead th {\n",
       "        text-align: right;\n",
       "    }\n",
       "</style>\n",
       "<table border=\"1\" class=\"dataframe\">\n",
       "  <thead>\n",
       "    <tr style=\"text-align: right;\">\n",
       "      <th></th>\n",
       "      <th>Games</th>\n",
       "      <th>Year</th>\n",
       "      <th>Country</th>\n",
       "      <th>Type</th>\n",
       "      <th>Cost per event, mio. USD</th>\n",
       "      <th>Cost per athlete, mio. USD</th>\n",
       "    </tr>\n",
       "  </thead>\n",
       "  <tbody>\n",
       "    <tr>\n",
       "      <th>0</th>\n",
       "      <td>Tokyo</td>\n",
       "      <td>1964</td>\n",
       "      <td>Japan</td>\n",
       "      <td>Summer</td>\n",
       "      <td>1.7</td>\n",
       "      <td>0.10</td>\n",
       "    </tr>\n",
       "    <tr>\n",
       "      <th>1</th>\n",
       "      <td>Munich</td>\n",
       "      <td>1972</td>\n",
       "      <td>Germany</td>\n",
       "      <td>Summer</td>\n",
       "      <td>5.2</td>\n",
       "      <td>0.10</td>\n",
       "    </tr>\n",
       "    <tr>\n",
       "      <th>2</th>\n",
       "      <td>Montreal</td>\n",
       "      <td>1976</td>\n",
       "      <td>Canada</td>\n",
       "      <td>Summer</td>\n",
       "      <td>30.8</td>\n",
       "      <td>1.00</td>\n",
       "    </tr>\n",
       "    <tr>\n",
       "      <th>3</th>\n",
       "      <td>Moscow</td>\n",
       "      <td>1980</td>\n",
       "      <td>Russia</td>\n",
       "      <td>Summer</td>\n",
       "      <td>31.2</td>\n",
       "      <td>1.20</td>\n",
       "    </tr>\n",
       "    <tr>\n",
       "      <th>4</th>\n",
       "      <td>Los Angeles</td>\n",
       "      <td>1984</td>\n",
       "      <td>United States</td>\n",
       "      <td>Summer</td>\n",
       "      <td>3.3</td>\n",
       "      <td>0.10</td>\n",
       "    </tr>\n",
       "    <tr>\n",
       "      <th>5</th>\n",
       "      <td>Barcelona</td>\n",
       "      <td>1992</td>\n",
       "      <td>Spain</td>\n",
       "      <td>Summer</td>\n",
       "      <td>37.7</td>\n",
       "      <td>1.00</td>\n",
       "    </tr>\n",
       "    <tr>\n",
       "      <th>6</th>\n",
       "      <td>Atlanta</td>\n",
       "      <td>1996</td>\n",
       "      <td>United States</td>\n",
       "      <td>Summer</td>\n",
       "      <td>15.3</td>\n",
       "      <td>0.40</td>\n",
       "    </tr>\n",
       "    <tr>\n",
       "      <th>7</th>\n",
       "      <td>Sydney</td>\n",
       "      <td>2000</td>\n",
       "      <td>Australia</td>\n",
       "      <td>Summer</td>\n",
       "      <td>16.8</td>\n",
       "      <td>0.50</td>\n",
       "    </tr>\n",
       "    <tr>\n",
       "      <th>8</th>\n",
       "      <td>Athens</td>\n",
       "      <td>2004</td>\n",
       "      <td>Greece</td>\n",
       "      <td>Summer</td>\n",
       "      <td>9.8</td>\n",
       "      <td>0.30</td>\n",
       "    </tr>\n",
       "    <tr>\n",
       "      <th>9</th>\n",
       "      <td>Beijing</td>\n",
       "      <td>2008</td>\n",
       "      <td>China</td>\n",
       "      <td>Summer</td>\n",
       "      <td>22.5</td>\n",
       "      <td>0.60</td>\n",
       "    </tr>\n",
       "    <tr>\n",
       "      <th>10</th>\n",
       "      <td>London</td>\n",
       "      <td>2012</td>\n",
       "      <td>United Kingdom</td>\n",
       "      <td>Summer</td>\n",
       "      <td>49.5</td>\n",
       "      <td>1.40</td>\n",
       "    </tr>\n",
       "    <tr>\n",
       "      <th>11</th>\n",
       "      <td>Rio</td>\n",
       "      <td>2016</td>\n",
       "      <td>Brazil</td>\n",
       "      <td>Summer</td>\n",
       "      <td>14.9</td>\n",
       "      <td>0.40</td>\n",
       "    </tr>\n",
       "    <tr>\n",
       "      <th>12</th>\n",
       "      <td>Innsbruck</td>\n",
       "      <td>1964</td>\n",
       "      <td>Austria</td>\n",
       "      <td>Winter</td>\n",
       "      <td>0.6</td>\n",
       "      <td>0.02</td>\n",
       "    </tr>\n",
       "    <tr>\n",
       "      <th>13</th>\n",
       "      <td>Grenoble</td>\n",
       "      <td>1968</td>\n",
       "      <td>France</td>\n",
       "      <td>Winter</td>\n",
       "      <td>25.4</td>\n",
       "      <td>0.80</td>\n",
       "    </tr>\n",
       "    <tr>\n",
       "      <th>14</th>\n",
       "      <td>Sapporo</td>\n",
       "      <td>1972</td>\n",
       "      <td>Japan</td>\n",
       "      <td>Winter</td>\n",
       "      <td>3.4</td>\n",
       "      <td>0.10</td>\n",
       "    </tr>\n",
       "    <tr>\n",
       "      <th>15</th>\n",
       "      <td>Innsbruck</td>\n",
       "      <td>1976</td>\n",
       "      <td>Austria</td>\n",
       "      <td>Winter</td>\n",
       "      <td>3.2</td>\n",
       "      <td>0.10</td>\n",
       "    </tr>\n",
       "    <tr>\n",
       "      <th>16</th>\n",
       "      <td>Lake Placid</td>\n",
       "      <td>1980</td>\n",
       "      <td>United States</td>\n",
       "      <td>Winter</td>\n",
       "      <td>11.5</td>\n",
       "      <td>0.40</td>\n",
       "    </tr>\n",
       "    <tr>\n",
       "      <th>17</th>\n",
       "      <td>Calgary</td>\n",
       "      <td>1988</td>\n",
       "      <td>Canada</td>\n",
       "      <td>Winter</td>\n",
       "      <td>24.1</td>\n",
       "      <td>0.80</td>\n",
       "    </tr>\n",
       "    <tr>\n",
       "      <th>18</th>\n",
       "      <td>Albertville</td>\n",
       "      <td>1992</td>\n",
       "      <td>France</td>\n",
       "      <td>Winter</td>\n",
       "      <td>35.0</td>\n",
       "      <td>1.10</td>\n",
       "    </tr>\n",
       "    <tr>\n",
       "      <th>19</th>\n",
       "      <td>Lillehammer</td>\n",
       "      <td>1994</td>\n",
       "      <td>Norway</td>\n",
       "      <td>Winter</td>\n",
       "      <td>36.5</td>\n",
       "      <td>1.30</td>\n",
       "    </tr>\n",
       "    <tr>\n",
       "      <th>20</th>\n",
       "      <td>Nagano</td>\n",
       "      <td>1998</td>\n",
       "      <td>Japan</td>\n",
       "      <td>Winter</td>\n",
       "      <td>32.7</td>\n",
       "      <td>1.00</td>\n",
       "    </tr>\n",
       "    <tr>\n",
       "      <th>21</th>\n",
       "      <td>Salt Lake City</td>\n",
       "      <td>2002</td>\n",
       "      <td>United States</td>\n",
       "      <td>Winter</td>\n",
       "      <td>32.3</td>\n",
       "      <td>1.10</td>\n",
       "    </tr>\n",
       "    <tr>\n",
       "      <th>22</th>\n",
       "      <td>Torino</td>\n",
       "      <td>2006</td>\n",
       "      <td>Italy</td>\n",
       "      <td>Winter</td>\n",
       "      <td>52.0</td>\n",
       "      <td>1.70</td>\n",
       "    </tr>\n",
       "    <tr>\n",
       "      <th>23</th>\n",
       "      <td>Vancouver</td>\n",
       "      <td>2010</td>\n",
       "      <td>Canada</td>\n",
       "      <td>Winter</td>\n",
       "      <td>29.5</td>\n",
       "      <td>1.00</td>\n",
       "    </tr>\n",
       "    <tr>\n",
       "      <th>24</th>\n",
       "      <td>Sochi</td>\n",
       "      <td>2014</td>\n",
       "      <td>Russia</td>\n",
       "      <td>Winter</td>\n",
       "      <td>223.4</td>\n",
       "      <td>7.90</td>\n",
       "    </tr>\n",
       "  </tbody>\n",
       "</table>\n",
       "</div>"
      ],
      "text/plain": [
       "             Games  Year         Country    Type  Cost per event, mio. USD  \\\n",
       "0            Tokyo  1964           Japan  Summer                       1.7   \n",
       "1           Munich  1972         Germany  Summer                       5.2   \n",
       "2         Montreal  1976          Canada  Summer                      30.8   \n",
       "3           Moscow  1980          Russia  Summer                      31.2   \n",
       "4      Los Angeles  1984   United States  Summer                       3.3   \n",
       "5        Barcelona  1992           Spain  Summer                      37.7   \n",
       "6          Atlanta  1996   United States  Summer                      15.3   \n",
       "7           Sydney  2000       Australia  Summer                      16.8   \n",
       "8           Athens  2004          Greece  Summer                       9.8   \n",
       "9          Beijing  2008           China  Summer                      22.5   \n",
       "10          London  2012  United Kingdom  Summer                      49.5   \n",
       "11             Rio  2016          Brazil  Summer                      14.9   \n",
       "12       Innsbruck  1964         Austria  Winter                       0.6   \n",
       "13        Grenoble  1968          France  Winter                      25.4   \n",
       "14         Sapporo  1972           Japan  Winter                       3.4   \n",
       "15       Innsbruck  1976         Austria  Winter                       3.2   \n",
       "16     Lake Placid  1980   United States  Winter                      11.5   \n",
       "17         Calgary  1988          Canada  Winter                      24.1   \n",
       "18     Albertville  1992          France  Winter                      35.0   \n",
       "19     Lillehammer  1994          Norway  Winter                      36.5   \n",
       "20          Nagano  1998           Japan  Winter                      32.7   \n",
       "21  Salt Lake City  2002   United States  Winter                      32.3   \n",
       "22          Torino  2006           Italy  Winter                      52.0   \n",
       "23       Vancouver  2010          Canada  Winter                      29.5   \n",
       "24           Sochi  2014          Russia  Winter                     223.4   \n",
       "\n",
       "    Cost per athlete, mio. USD  \n",
       "0                         0.10  \n",
       "1                         0.10  \n",
       "2                         1.00  \n",
       "3                         1.20  \n",
       "4                         0.10  \n",
       "5                         1.00  \n",
       "6                         0.40  \n",
       "7                         0.50  \n",
       "8                         0.30  \n",
       "9                         0.60  \n",
       "10                        1.40  \n",
       "11                        0.40  \n",
       "12                        0.02  \n",
       "13                        0.80  \n",
       "14                        0.10  \n",
       "15                        0.10  \n",
       "16                        0.40  \n",
       "17                        0.80  \n",
       "18                        1.10  \n",
       "19                        1.30  \n",
       "20                        1.00  \n",
       "21                        1.10  \n",
       "22                        1.70  \n",
       "23                        1.00  \n",
       "24                        7.90  "
      ]
     },
     "execution_count": 12,
     "metadata": {},
     "output_type": "execute_result"
    }
   ],
   "source": [
    "df.replace('Soviet Union', 'Russia')"
   ]
  },
  {
   "cell_type": "markdown",
   "metadata": {},
   "source": [
    "Action: Bringing up the names of all the titles of columns in the dataset\n",
    "Result: I can clearly see the name of the column I want to use and it will allow me to use the name to explore more of its variables."
   ]
  },
  {
   "cell_type": "code",
   "execution_count": 13,
   "metadata": {},
   "outputs": [
    {
     "data": {
      "text/plain": [
       "['Games',\n",
       " 'Year',\n",
       " 'Country',\n",
       " 'Type',\n",
       " 'Cost per event, mio. USD',\n",
       " 'Cost per athlete, mio. USD']"
      ]
     },
     "execution_count": 13,
     "metadata": {},
     "output_type": "execute_result"
    }
   ],
   "source": [
    "df.columns.to_list()"
   ]
  },
  {
   "cell_type": "markdown",
   "metadata": {},
   "source": [
    "Action: Using the %matplotlib function in my data\n",
    "Result: This will allow me to make rich visualizations for quick analysis of my data."
   ]
  },
  {
   "cell_type": "code",
   "execution_count": 14,
   "metadata": {},
   "outputs": [],
   "source": [
    "%matplotlib inline\n"
   ]
  },
  {
   "cell_type": "markdown",
   "metadata": {},
   "source": [
    "### Plotting the Data\n",
    "Action: Plotting the column \"Cost Per event\" for previous summer Olympics\n",
    "Result: I will be able to investigate the temporal trends of cost per event at Summer Olympics"
   ]
  },
  {
   "cell_type": "code",
   "execution_count": 15,
   "metadata": {},
   "outputs": [
    {
     "data": {
      "text/plain": [
       "Text(0.5, 1.0, 'Cost per event Summer Olympics')"
      ]
     },
     "execution_count": 15,
     "metadata": {},
     "output_type": "execute_result"
    },
    {
     "data": {
      "image/png": "[encoded data removed]",
      "text/plain": [
       "<Figure size 432x288 with 1 Axes>"
      ]
     },
     "metadata": {
      "needs_background": "light"
     },
     "output_type": "display_data"
    }
   ],
   "source": [
    "df.head(11).plot(x=\"Year\", y=\"Cost per event, mio. USD\")\n",
    "plt.title('Cost per event Summer Olympics')"
   ]
  },
  {
   "cell_type": "markdown",
   "metadata": {},
   "source": [
    "Action: Plotting the column \"Cost Per event\" for previous Winter Olympics\n",
    "Result: I will be able to investigate the temporal trends of cost per event at Winter Olympics"
   ]
  },
  {
   "cell_type": "code",
   "execution_count": 16,
   "metadata": {},
   "outputs": [
    {
     "data": {
      "text/plain": [
       "Text(0.5, 1.0, 'Cost per event Winter Olympics')"
      ]
     },
     "execution_count": 16,
     "metadata": {},
     "output_type": "execute_result"
    },
    {
     "data": {
      "image/png": "[encoded data removed]",
      "text/plain": [
       "<Figure size 432x288 with 1 Axes>"
      ]
     },
     "metadata": {
      "needs_background": "light"
     },
     "output_type": "display_data"
    }
   ],
   "source": [
    "df.tail(11).plot(x=\"Year\", y=\"Cost per event, mio. USD\")\n",
    "plt.title('Cost per event Winter Olympics')"
   ]
  },
  {
   "cell_type": "markdown",
   "metadata": {},
   "source": [
    "Action: Plotting the column \"Cost Per Athlete\" for previous Summer Olympics\n",
    "Result: I will be able to investigate the temporal trends of cost per athlete at Summer Olympics"
   ]
  },
  {
   "cell_type": "code",
   "execution_count": 17,
   "metadata": {},
   "outputs": [
    {
     "data": {
      "text/plain": [
       "Text(0.5, 1.0, 'Cost per Athlete Summer Olympics')"
      ]
     },
     "execution_count": 17,
     "metadata": {},
     "output_type": "execute_result"
    },
    {
     "data": {
      "image/png": "[encoded data removed]",
      "text/plain": [
       "<Figure size 432x288 with 1 Axes>"
      ]
     },
     "metadata": {
      "needs_background": "light"
     },
     "output_type": "display_data"
    }
   ],
   "source": [
    "df.head(11).plot(x=\"Year\", y=\"Cost per athlete, mio. USD\")\n",
    "plt.title('Cost per Athlete Summer Olympics')"
   ]
  },
  {
   "cell_type": "markdown",
   "metadata": {},
   "source": [
    "Action: Plotting the column \"Cost Per event\" for previous Winter Olympics\n",
    "Result: I will be able to investigate the temporal trends of cost per event at Winter Olympics"
   ]
  },
  {
   "cell_type": "code",
   "execution_count": 18,
   "metadata": {},
   "outputs": [
    {
     "data": {
      "text/plain": [
       "Text(0.5, 1.0, 'Cost per Athlete Winter Olympics')"
      ]
     },
     "execution_count": 18,
     "metadata": {},
     "output_type": "execute_result"
    },
    {
     "data": {
      "image/png": "[encoded data removed]",
      "text/plain": [
       "<Figure size 432x288 with 1 Axes>"
      ]
     },
     "metadata": {
      "needs_background": "light"
     },
     "output_type": "display_data"
    }
   ],
   "source": [
    "df.tail(11).plot(x=\"Year\", y=\"Cost per athlete, mio. USD\")\n",
    "plt.title('Cost per Athlete Winter Olympics')"
   ]
  },
  {
   "cell_type": "markdown",
   "metadata": {},
   "source": [
    "Action: Plotting the column \"Cost Per event\" and \"Cost per Athlete\" for previous Summer Olympics\n",
    "Result: I will be able to compare the data side by side and look for trends in the temporal analysis.\n",
    "I think what is interesting here is the fluctuation of Per event cost compared to the per athlete cost. Ultimately, in the end both numbers go up and signify the raise in price for per athlete and per game costs as time has progressed. This could mean further finnancial burden for hsot countries and should be investigated further.\n"
   ]
  },
  {
   "cell_type": "code",
   "execution_count": 19,
   "metadata": {},
   "outputs": [
    {
     "data": {
      "text/plain": [
       "Text(0.5, 1.0, 'Cost per event and per athlete Summer Olympics')"
      ]
     },
     "execution_count": 19,
     "metadata": {},
     "output_type": "execute_result"
    },
    {
     "data": {
      "image/png": "[encoded data removed]",
      "text/plain": [
       "<Figure size 432x288 with 1 Axes>"
      ]
     },
     "metadata": {
      "needs_background": "light"
     },
     "output_type": "display_data"
    }
   ],
   "source": [
    "df.head(11).plot(x=\"Year\", y=[\"Cost per event, mio. USD\", \"Cost per athlete, mio. USD\"])\n",
    "plt.title('Cost per event and per athlete Summer Olympics')"
   ]
  },
  {
   "cell_type": "markdown",
   "metadata": {},
   "source": [
    "Action: Plotting the column \"Cost Per event\" and \"Cost per Athlete\" for previous Winter Olympics\n",
    "Result: I will be able to compare the data side by side and look for trends in the temporal analysis.\n",
    "I think what is interesting here is the lack of fluctuation of Per event cost compared to the per athlete cost when compared with the graph above. Ultimately, what both graphs have in common is the rise in both per athlete and per event costs, with both per event costs rising astronomically after 2010."
   ]
  },
  {
   "cell_type": "code",
   "execution_count": 20,
   "metadata": {
    "scrolled": true
   },
   "outputs": [
    {
     "data": {
      "text/plain": [
       "Text(0.5, 1.0, 'Cost per event and per athlete Summer Olympics')"
      ]
     },
     "execution_count": 20,
     "metadata": {},
     "output_type": "execute_result"
    },
    {
     "data": {
      "image/png": "[encoded data removed]",
      "text/plain": [
       "<Figure size 432x288 with 1 Axes>"
      ]
     },
     "metadata": {
      "needs_background": "light"
     },
     "output_type": "display_data"
    }
   ],
   "source": [
    "df.tail(11).plot(x=\"Year\", y=[\"Cost per event, mio. USD\",\"Cost per athlete, mio. USD\"])\n",
    "plt.title('Cost per event and per athlete Winter Olympics')"
   ]
  },
  {
   "cell_type": "markdown",
   "metadata": {},
   "source": [
    "### Mapping the Data\n",
    "Action: Import pycountry\n",
    "Result: This will help me generate country codes based on country name (because my dataset lacks lattitude or longitude)- which I will be able to use to graph my results on a map."
   ]
  },
  {
   "cell_type": "code",
   "execution_count": 21,
   "metadata": {},
   "outputs": [],
   "source": [
    "import pycountry "
   ]
  },
  {
   "cell_type": "markdown",
   "metadata": {},
   "source": [
    "Action: Creating a new column for accept the 3 letter country codes for my countries\n",
    "Result: By creating a new column, I can import the 3 letter alpha county codes that will allow me to map my data.\n"
   ]
  },
  {
   "cell_type": "code",
   "execution_count": 22,
   "metadata": {},
   "outputs": [],
   "source": [
    "def alpha3code(column):\n",
    "    CODE=[]\n",
    "    for country in column:\n",
    "        try:\n",
    "            code=pycountry.countries.get(name=country).alpha_3\n",
    "            CODE.append(code)\n",
    "        except:\n",
    "            CODE.append('None')\n",
    "    return CODE"
   ]
  },
  {
   "cell_type": "markdown",
   "metadata": {},
   "source": [
    "Action: Calling the new column \"CODE\" and looking at the top 10 entries of our data\n",
    "Result: I am checking to make sure that the country code went through and is assigned so that I can continue with mapping the data."
   ]
  },
  {
   "cell_type": "code",
   "execution_count": 23,
   "metadata": {},
   "outputs": [
    {
     "data": {
      "text/html": [
       "<div>\n",
       "<style scoped>\n",
       "    .dataframe tbody tr th:only-of-type {\n",
       "        vertical-align: middle;\n",
       "    }\n",
       "\n",
       "    .dataframe tbody tr th {\n",
       "        vertical-align: top;\n",
       "    }\n",
       "\n",
       "    .dataframe thead th {\n",
       "        text-align: right;\n",
       "    }\n",
       "</style>\n",
       "<table border=\"1\" class=\"dataframe\">\n",
       "  <thead>\n",
       "    <tr style=\"text-align: right;\">\n",
       "      <th></th>\n",
       "      <th>Games</th>\n",
       "      <th>Year</th>\n",
       "      <th>Country</th>\n",
       "      <th>Type</th>\n",
       "      <th>Cost per event, mio. USD</th>\n",
       "      <th>Cost per athlete, mio. USD</th>\n",
       "      <th>CODE</th>\n",
       "    </tr>\n",
       "  </thead>\n",
       "  <tbody>\n",
       "    <tr>\n",
       "      <th>0</th>\n",
       "      <td>Tokyo</td>\n",
       "      <td>1964</td>\n",
       "      <td>Japan</td>\n",
       "      <td>Summer</td>\n",
       "      <td>1.7</td>\n",
       "      <td>0.10</td>\n",
       "      <td>JPN</td>\n",
       "    </tr>\n",
       "    <tr>\n",
       "      <th>1</th>\n",
       "      <td>Munich</td>\n",
       "      <td>1972</td>\n",
       "      <td>Germany</td>\n",
       "      <td>Summer</td>\n",
       "      <td>5.2</td>\n",
       "      <td>0.10</td>\n",
       "      <td>DEU</td>\n",
       "    </tr>\n",
       "    <tr>\n",
       "      <th>2</th>\n",
       "      <td>Montreal</td>\n",
       "      <td>1976</td>\n",
       "      <td>Canada</td>\n",
       "      <td>Summer</td>\n",
       "      <td>30.8</td>\n",
       "      <td>1.00</td>\n",
       "      <td>CAN</td>\n",
       "    </tr>\n",
       "    <tr>\n",
       "      <th>3</th>\n",
       "      <td>Moscow</td>\n",
       "      <td>1980</td>\n",
       "      <td>Soviet Union</td>\n",
       "      <td>Summer</td>\n",
       "      <td>31.2</td>\n",
       "      <td>1.20</td>\n",
       "      <td>None</td>\n",
       "    </tr>\n",
       "    <tr>\n",
       "      <th>4</th>\n",
       "      <td>Los Angeles</td>\n",
       "      <td>1984</td>\n",
       "      <td>United States</td>\n",
       "      <td>Summer</td>\n",
       "      <td>3.3</td>\n",
       "      <td>0.10</td>\n",
       "      <td>USA</td>\n",
       "    </tr>\n",
       "    <tr>\n",
       "      <th>5</th>\n",
       "      <td>Barcelona</td>\n",
       "      <td>1992</td>\n",
       "      <td>Spain</td>\n",
       "      <td>Summer</td>\n",
       "      <td>37.7</td>\n",
       "      <td>1.00</td>\n",
       "      <td>ESP</td>\n",
       "    </tr>\n",
       "    <tr>\n",
       "      <th>6</th>\n",
       "      <td>Atlanta</td>\n",
       "      <td>1996</td>\n",
       "      <td>United States</td>\n",
       "      <td>Summer</td>\n",
       "      <td>15.3</td>\n",
       "      <td>0.40</td>\n",
       "      <td>USA</td>\n",
       "    </tr>\n",
       "    <tr>\n",
       "      <th>7</th>\n",
       "      <td>Sydney</td>\n",
       "      <td>2000</td>\n",
       "      <td>Australia</td>\n",
       "      <td>Summer</td>\n",
       "      <td>16.8</td>\n",
       "      <td>0.50</td>\n",
       "      <td>AUS</td>\n",
       "    </tr>\n",
       "    <tr>\n",
       "      <th>8</th>\n",
       "      <td>Athens</td>\n",
       "      <td>2004</td>\n",
       "      <td>Greece</td>\n",
       "      <td>Summer</td>\n",
       "      <td>9.8</td>\n",
       "      <td>0.30</td>\n",
       "      <td>GRC</td>\n",
       "    </tr>\n",
       "    <tr>\n",
       "      <th>9</th>\n",
       "      <td>Beijing</td>\n",
       "      <td>2008</td>\n",
       "      <td>China</td>\n",
       "      <td>Summer</td>\n",
       "      <td>22.5</td>\n",
       "      <td>0.60</td>\n",
       "      <td>CHN</td>\n",
       "    </tr>\n",
       "    <tr>\n",
       "      <th>10</th>\n",
       "      <td>London</td>\n",
       "      <td>2012</td>\n",
       "      <td>United Kingdom</td>\n",
       "      <td>Summer</td>\n",
       "      <td>49.5</td>\n",
       "      <td>1.40</td>\n",
       "      <td>GBR</td>\n",
       "    </tr>\n",
       "    <tr>\n",
       "      <th>11</th>\n",
       "      <td>Rio</td>\n",
       "      <td>2016</td>\n",
       "      <td>Brazil</td>\n",
       "      <td>Summer</td>\n",
       "      <td>14.9</td>\n",
       "      <td>0.40</td>\n",
       "      <td>BRA</td>\n",
       "    </tr>\n",
       "    <tr>\n",
       "      <th>12</th>\n",
       "      <td>Innsbruck</td>\n",
       "      <td>1964</td>\n",
       "      <td>Austria</td>\n",
       "      <td>Winter</td>\n",
       "      <td>0.6</td>\n",
       "      <td>0.02</td>\n",
       "      <td>AUT</td>\n",
       "    </tr>\n",
       "    <tr>\n",
       "      <th>13</th>\n",
       "      <td>Grenoble</td>\n",
       "      <td>1968</td>\n",
       "      <td>France</td>\n",
       "      <td>Winter</td>\n",
       "      <td>25.4</td>\n",
       "      <td>0.80</td>\n",
       "      <td>FRA</td>\n",
       "    </tr>\n",
       "    <tr>\n",
       "      <th>14</th>\n",
       "      <td>Sapporo</td>\n",
       "      <td>1972</td>\n",
       "      <td>Japan</td>\n",
       "      <td>Winter</td>\n",
       "      <td>3.4</td>\n",
       "      <td>0.10</td>\n",
       "      <td>JPN</td>\n",
       "    </tr>\n",
       "    <tr>\n",
       "      <th>15</th>\n",
       "      <td>Innsbruck</td>\n",
       "      <td>1976</td>\n",
       "      <td>Austria</td>\n",
       "      <td>Winter</td>\n",
       "      <td>3.2</td>\n",
       "      <td>0.10</td>\n",
       "      <td>AUT</td>\n",
       "    </tr>\n",
       "    <tr>\n",
       "      <th>16</th>\n",
       "      <td>Lake Placid</td>\n",
       "      <td>1980</td>\n",
       "      <td>United States</td>\n",
       "      <td>Winter</td>\n",
       "      <td>11.5</td>\n",
       "      <td>0.40</td>\n",
       "      <td>USA</td>\n",
       "    </tr>\n",
       "    <tr>\n",
       "      <th>17</th>\n",
       "      <td>Calgary</td>\n",
       "      <td>1988</td>\n",
       "      <td>Canada</td>\n",
       "      <td>Winter</td>\n",
       "      <td>24.1</td>\n",
       "      <td>0.80</td>\n",
       "      <td>CAN</td>\n",
       "    </tr>\n",
       "    <tr>\n",
       "      <th>18</th>\n",
       "      <td>Albertville</td>\n",
       "      <td>1992</td>\n",
       "      <td>France</td>\n",
       "      <td>Winter</td>\n",
       "      <td>35.0</td>\n",
       "      <td>1.10</td>\n",
       "      <td>FRA</td>\n",
       "    </tr>\n",
       "    <tr>\n",
       "      <th>19</th>\n",
       "      <td>Lillehammer</td>\n",
       "      <td>1994</td>\n",
       "      <td>Norway</td>\n",
       "      <td>Winter</td>\n",
       "      <td>36.5</td>\n",
       "      <td>1.30</td>\n",
       "      <td>NOR</td>\n",
       "    </tr>\n",
       "    <tr>\n",
       "      <th>20</th>\n",
       "      <td>Nagano</td>\n",
       "      <td>1998</td>\n",
       "      <td>Japan</td>\n",
       "      <td>Winter</td>\n",
       "      <td>32.7</td>\n",
       "      <td>1.00</td>\n",
       "      <td>JPN</td>\n",
       "    </tr>\n",
       "    <tr>\n",
       "      <th>21</th>\n",
       "      <td>Salt Lake City</td>\n",
       "      <td>2002</td>\n",
       "      <td>United States</td>\n",
       "      <td>Winter</td>\n",
       "      <td>32.3</td>\n",
       "      <td>1.10</td>\n",
       "      <td>USA</td>\n",
       "    </tr>\n",
       "    <tr>\n",
       "      <th>22</th>\n",
       "      <td>Torino</td>\n",
       "      <td>2006</td>\n",
       "      <td>Italy</td>\n",
       "      <td>Winter</td>\n",
       "      <td>52.0</td>\n",
       "      <td>1.70</td>\n",
       "      <td>ITA</td>\n",
       "    </tr>\n",
       "  </tbody>\n",
       "</table>\n",
       "</div>"
      ],
      "text/plain": [
       "             Games  Year         Country    Type  Cost per event, mio. USD  \\\n",
       "0            Tokyo  1964           Japan  Summer                       1.7   \n",
       "1           Munich  1972         Germany  Summer                       5.2   \n",
       "2         Montreal  1976          Canada  Summer                      30.8   \n",
       "3           Moscow  1980    Soviet Union  Summer                      31.2   \n",
       "4      Los Angeles  1984   United States  Summer                       3.3   \n",
       "5        Barcelona  1992           Spain  Summer                      37.7   \n",
       "6          Atlanta  1996   United States  Summer                      15.3   \n",
       "7           Sydney  2000       Australia  Summer                      16.8   \n",
       "8           Athens  2004          Greece  Summer                       9.8   \n",
       "9          Beijing  2008           China  Summer                      22.5   \n",
       "10          London  2012  United Kingdom  Summer                      49.5   \n",
       "11             Rio  2016          Brazil  Summer                      14.9   \n",
       "12       Innsbruck  1964         Austria  Winter                       0.6   \n",
       "13        Grenoble  1968          France  Winter                      25.4   \n",
       "14         Sapporo  1972           Japan  Winter                       3.4   \n",
       "15       Innsbruck  1976         Austria  Winter                       3.2   \n",
       "16     Lake Placid  1980   United States  Winter                      11.5   \n",
       "17         Calgary  1988          Canada  Winter                      24.1   \n",
       "18     Albertville  1992          France  Winter                      35.0   \n",
       "19     Lillehammer  1994          Norway  Winter                      36.5   \n",
       "20          Nagano  1998           Japan  Winter                      32.7   \n",
       "21  Salt Lake City  2002   United States  Winter                      32.3   \n",
       "22          Torino  2006           Italy  Winter                      52.0   \n",
       "\n",
       "    Cost per athlete, mio. USD  CODE  \n",
       "0                         0.10   JPN  \n",
       "1                         0.10   DEU  \n",
       "2                         1.00   CAN  \n",
       "3                         1.20  None  \n",
       "4                         0.10   USA  \n",
       "5                         1.00   ESP  \n",
       "6                         0.40   USA  \n",
       "7                         0.50   AUS  \n",
       "8                         0.30   GRC  \n",
       "9                         0.60   CHN  \n",
       "10                        1.40   GBR  \n",
       "11                        0.40   BRA  \n",
       "12                        0.02   AUT  \n",
       "13                        0.80   FRA  \n",
       "14                        0.10   JPN  \n",
       "15                        0.10   AUT  \n",
       "16                        0.40   USA  \n",
       "17                        0.80   CAN  \n",
       "18                        1.10   FRA  \n",
       "19                        1.30   NOR  \n",
       "20                        1.00   JPN  \n",
       "21                        1.10   USA  \n",
       "22                        1.70   ITA  "
      ]
     },
     "execution_count": 23,
     "metadata": {},
     "output_type": "execute_result"
    }
   ],
   "source": [
    "df['CODE']=alpha3code(df.Country)\n",
    "df.head(23)\n"
   ]
  },
  {
   "cell_type": "markdown",
   "metadata": {},
   "source": [
    "Action: Merging geopandas data with our own dataset, and then using geopandas 'naturalearth_lowres' have a base for our data.\n",
    "Result: By using geopandas, it will allow us to spatially analyze our data that other packages like pandas or numpy could not do. W are also renaming columns so that the data will be compatible to be merged together"
   ]
  },
  {
   "cell_type": "code",
   "execution_count": 24,
   "metadata": {},
   "outputs": [],
   "source": [
    "world = gpd.read_file(gpd.datasets.get_path('naturalearth_lowres'))\n",
    "world.columns=['pop_est', 'continent', 'name', 'CODE', 'gdp_md_est', 'geometry']"
   ]
  },
  {
   "cell_type": "markdown",
   "metadata": {},
   "source": [
    "Action: Merging the data together and with the CODE file, and then finally with the location data from geopandas. We will be using information from a fellow users github space so that we can read the csv data there that has the latitude and longitude data.\n",
    "Result: This will give us our desired latitude and longitude for our contries. We also are defining our value to be \"Cost per event\" so that it will show up on the map."
   ]
  },
  {
   "cell_type": "code",
   "execution_count": 25,
   "metadata": {},
   "outputs": [],
   "source": [
    " merge=pd.merge(world,df,on='CODE')\n",
    "location=pd.read_csv('https://raw.githubusercontent.com/melanieshi0120/COVID-19_global_time_series_panel_data/master/data/countries_latitude_longitude.csv')\n",
    "merge=merge.merge(location,on='name').sort_values(by='Cost per event, mio. USD', ascending=False).reset_index()"
   ]
  },
  {
   "cell_type": "markdown",
   "metadata": {},
   "source": [
    "Action:Plotting our merged data and putting in the appropriate data for our graph.\n",
    "Result: We will be able to make publishable ready maps by giving our map a legend, title, and appropriate colorscheme. Also- now we can spatial see our data of cost per event on a global scale."
   ]
  },
  {
   "cell_type": "code",
   "execution_count": 26,
   "metadata": {},
   "outputs": [
    {
     "data": {
      "image/png": "[encoded data removed]",
      "text/plain": [
       "<Figure size 1800x1440 with 1 Axes>"
      ]
     },
     "metadata": {
      "needs_background": "light"
     },
     "output_type": "display_data"
    }
   ],
   "source": [
    "\n",
    "merge.plot(column='Cost per event, mio. USD', scheme=\"quantiles\",\n",
    "           figsize=(25, 20),\n",
    "           legend=True,cmap='Blues')\n",
    "plt.title('Cost per event, mio. USD',fontsize=30)\n",
    "\n",
    "for i in range(0,20):\n",
    "    plt.text(float(merge.longitude[i]),float(merge.latitude[i]),\"{}\\n\".format(merge.name[i]),size=14)\n",
    "plt.show()"
   ]
  },
  {
   "cell_type": "markdown",
   "metadata": {},
   "source": [
    "Action: Plotting our other map from the column \"Cost per athlete\"\n",
    "Result: We will be able to make publishable ready maps by giving our map a legend, title, and appropriate colorscheme. Also- now we can think spatial and visualize the data \"Cost per Athelete\" "
   ]
  },
  {
   "cell_type": "code",
   "execution_count": 27,
   "metadata": {},
   "outputs": [
    {
     "data": {
      "image/png": "[encoded data removed]",
      "text/plain": [
       "<Figure size 2160x1800 with 1 Axes>"
      ]
     },
     "metadata": {
      "needs_background": "light"
     },
     "output_type": "display_data"
    }
   ],
   "source": [
    "merge.plot(column='Cost per athlete, mio. USD', scheme=\"quantiles\",\n",
    "           figsize=(30, 25),\n",
    "           legend=True,cmap='Blues')\n",
    "plt.title('Cost per athlete, mio. USD',fontsize=30)\n",
    "\n",
    "for i in range(0,20):\n",
    "    plt.text(float(merge.longitude[i]),float(merge.latitude[i]),\"{}\\n\".format(merge.name[i]),size=14)\n",
    "plt.show()"
   ]
  },
  {
   "cell_type": "markdown",
   "metadata": {},
   "source": [
    "Action: We are changing the variable and plotting what a world map of \"Types of Olympic Games\" looked like.\n",
    "Result: We will be able to spatialy analzye this data. This may be interesting to compare with the previous graphs to make connections about types of games and their expenses."
   ]
  },
  {
   "cell_type": "code",
   "execution_count": 28,
   "metadata": {},
   "outputs": [
    {
     "name": "stderr",
     "output_type": "stream",
     "text": [
      "/opt/conda/lib/python3.8/site-packages/mapclassify/classifiers.py:235: UserWarning: Warning: Not enough unique values in array to form k classes\n",
      "  Warn(\n",
      "/opt/conda/lib/python3.8/site-packages/mapclassify/classifiers.py:238: UserWarning: Warning: setting k to 2\n",
      "  Warn(\"Warning: setting k to %d\" % k_q, UserWarning)\n"
     ]
    },
    {
     "data": {
      "image/png": "[encoded data removed]",
      "text/plain": [
       "<Figure size 1800x1440 with 1 Axes>"
      ]
     },
     "metadata": {
      "needs_background": "light"
     },
     "output_type": "display_data"
    }
   ],
   "source": [
    "\n",
    "merge.plot(column='Type', scheme=\"quantiles\",\n",
    "           figsize=(25, 20),\n",
    "           legend=True,cmap='coolwarm')\n",
    "plt.title('Type of Olympic Game',fontsize=30)\n",
    "\n",
    "for i in range(0,20):\n",
    "    plt.text(float(merge.longitude[i]),float(merge.latitude[i]),\"{}\\n\".format(merge.name[i]),size=14)\n",
    "plt.show()"
   ]
  },
  {
   "cell_type": "markdown",
   "metadata": {},
   "source": [
    "Now that we've been able to visualize the data of 'Cost per event\" and \"Cost per athlete\" and location of Olympic games,I want to quickly look at now which countries have had the most Olympic games.. I will be importing another data file because it goes back a little further than the previous file.\n",
    "Action: Importing a new csv file and looking at the top 5 entries int he data\n",
    "Result: We will have another dataset that we will be able to use data from. We are using head. in order to see the general entries into the data."
   ]
  },
  {
   "cell_type": "code",
   "execution_count": 29,
   "metadata": {
    "scrolled": true
   },
   "outputs": [],
   "source": [
    "ot = pd.read_csv('Outturn.csv')"
   ]
  },
  {
   "cell_type": "code",
   "execution_count": 30,
   "metadata": {},
   "outputs": [
    {
     "data": {
      "text/html": [
       "<div>\n",
       "<style scoped>\n",
       "    .dataframe tbody tr th:only-of-type {\n",
       "        vertical-align: middle;\n",
       "    }\n",
       "\n",
       "    .dataframe tbody tr th {\n",
       "        vertical-align: top;\n",
       "    }\n",
       "\n",
       "    .dataframe thead th {\n",
       "        text-align: right;\n",
       "    }\n",
       "</style>\n",
       "<table border=\"1\" class=\"dataframe\">\n",
       "  <thead>\n",
       "    <tr style=\"text-align: right;\">\n",
       "      <th></th>\n",
       "      <th>Games</th>\n",
       "      <th>Year</th>\n",
       "      <th>Country</th>\n",
       "      <th>Type</th>\n",
       "      <th>Events</th>\n",
       "      <th>Athletes</th>\n",
       "      <th>Cost, Billion USD</th>\n",
       "    </tr>\n",
       "  </thead>\n",
       "  <tbody>\n",
       "    <tr>\n",
       "      <th>0</th>\n",
       "      <td>Rome</td>\n",
       "      <td>1960</td>\n",
       "      <td>Italy</td>\n",
       "      <td>Summer</td>\n",
       "      <td>150</td>\n",
       "      <td>5338</td>\n",
       "      <td>NaN</td>\n",
       "    </tr>\n",
       "    <tr>\n",
       "      <th>1</th>\n",
       "      <td>Tokyo</td>\n",
       "      <td>1964</td>\n",
       "      <td>Japan</td>\n",
       "      <td>Summer</td>\n",
       "      <td>163</td>\n",
       "      <td>5152</td>\n",
       "      <td>0.282</td>\n",
       "    </tr>\n",
       "    <tr>\n",
       "      <th>2</th>\n",
       "      <td>Mexico City</td>\n",
       "      <td>1968</td>\n",
       "      <td>Mexico</td>\n",
       "      <td>Summer</td>\n",
       "      <td>172</td>\n",
       "      <td>5516</td>\n",
       "      <td>n/a**</td>\n",
       "    </tr>\n",
       "    <tr>\n",
       "      <th>3</th>\n",
       "      <td>Munich</td>\n",
       "      <td>1972</td>\n",
       "      <td>Germany</td>\n",
       "      <td>Summer</td>\n",
       "      <td>195</td>\n",
       "      <td>7234</td>\n",
       "      <td>1.009</td>\n",
       "    </tr>\n",
       "    <tr>\n",
       "      <th>4</th>\n",
       "      <td>Montreal</td>\n",
       "      <td>1976</td>\n",
       "      <td>Canada</td>\n",
       "      <td>Summer</td>\n",
       "      <td>198</td>\n",
       "      <td>6048</td>\n",
       "      <td>6.093</td>\n",
       "    </tr>\n",
       "  </tbody>\n",
       "</table>\n",
       "</div>"
      ],
      "text/plain": [
       "         Games  Year  Country    Type  Events  Athletes Cost, Billion USD\n",
       "0         Rome  1960    Italy  Summer     150      5338               NaN\n",
       "1        Tokyo  1964    Japan  Summer     163      5152             0.282\n",
       "2  Mexico City  1968   Mexico  Summer     172      5516             n/a**\n",
       "3       Munich  1972  Germany  Summer     195      7234             1.009\n",
       "4     Montreal  1976   Canada  Summer     198      6048             6.093"
      ]
     },
     "execution_count": 30,
     "metadata": {},
     "output_type": "execute_result"
    }
   ],
   "source": [
    "ot.head()"
   ]
  },
  {
   "cell_type": "markdown",
   "metadata": {},
   "source": [
    "Action: Changing \"Soviet Union\" to \"Russia\"\n",
    "Result Because the Winter Olympic games in 1980 were in Moscow, or present day Russia, and the former USSR is disolved, I am changing the name of the variable so that it cant be counted correctly together."
   ]
  },
  {
   "cell_type": "code",
   "execution_count": 31,
   "metadata": {},
   "outputs": [
    {
     "data": {
      "text/html": [
       "<div>\n",
       "<style scoped>\n",
       "    .dataframe tbody tr th:only-of-type {\n",
       "        vertical-align: middle;\n",
       "    }\n",
       "\n",
       "    .dataframe tbody tr th {\n",
       "        vertical-align: top;\n",
       "    }\n",
       "\n",
       "    .dataframe thead th {\n",
       "        text-align: right;\n",
       "    }\n",
       "</style>\n",
       "<table border=\"1\" class=\"dataframe\">\n",
       "  <thead>\n",
       "    <tr style=\"text-align: right;\">\n",
       "      <th></th>\n",
       "      <th>Games</th>\n",
       "      <th>Year</th>\n",
       "      <th>Country</th>\n",
       "      <th>Type</th>\n",
       "      <th>Events</th>\n",
       "      <th>Athletes</th>\n",
       "      <th>Cost, Billion USD</th>\n",
       "    </tr>\n",
       "  </thead>\n",
       "  <tbody>\n",
       "    <tr>\n",
       "      <th>0</th>\n",
       "      <td>Rome</td>\n",
       "      <td>1960</td>\n",
       "      <td>Italy</td>\n",
       "      <td>Summer</td>\n",
       "      <td>150</td>\n",
       "      <td>5338</td>\n",
       "      <td>NaN</td>\n",
       "    </tr>\n",
       "    <tr>\n",
       "      <th>1</th>\n",
       "      <td>Tokyo</td>\n",
       "      <td>1964</td>\n",
       "      <td>Japan</td>\n",
       "      <td>Summer</td>\n",
       "      <td>163</td>\n",
       "      <td>5152</td>\n",
       "      <td>0.282</td>\n",
       "    </tr>\n",
       "    <tr>\n",
       "      <th>2</th>\n",
       "      <td>Mexico City</td>\n",
       "      <td>1968</td>\n",
       "      <td>Mexico</td>\n",
       "      <td>Summer</td>\n",
       "      <td>172</td>\n",
       "      <td>5516</td>\n",
       "      <td>n/a**</td>\n",
       "    </tr>\n",
       "    <tr>\n",
       "      <th>3</th>\n",
       "      <td>Munich</td>\n",
       "      <td>1972</td>\n",
       "      <td>Germany</td>\n",
       "      <td>Summer</td>\n",
       "      <td>195</td>\n",
       "      <td>7234</td>\n",
       "      <td>1.009</td>\n",
       "    </tr>\n",
       "    <tr>\n",
       "      <th>4</th>\n",
       "      <td>Montreal</td>\n",
       "      <td>1976</td>\n",
       "      <td>Canada</td>\n",
       "      <td>Summer</td>\n",
       "      <td>198</td>\n",
       "      <td>6048</td>\n",
       "      <td>6.093</td>\n",
       "    </tr>\n",
       "    <tr>\n",
       "      <th>5</th>\n",
       "      <td>Moscow</td>\n",
       "      <td>1980</td>\n",
       "      <td>Russia</td>\n",
       "      <td>Summer</td>\n",
       "      <td>203</td>\n",
       "      <td>5179</td>\n",
       "      <td>6.331</td>\n",
       "    </tr>\n",
       "    <tr>\n",
       "      <th>6</th>\n",
       "      <td>Los Angeles</td>\n",
       "      <td>1984</td>\n",
       "      <td>United States</td>\n",
       "      <td>Summer</td>\n",
       "      <td>221</td>\n",
       "      <td>6829</td>\n",
       "      <td>0.719</td>\n",
       "    </tr>\n",
       "    <tr>\n",
       "      <th>7</th>\n",
       "      <td>Seoul</td>\n",
       "      <td>1988</td>\n",
       "      <td>South Korea</td>\n",
       "      <td>Summer</td>\n",
       "      <td>237</td>\n",
       "      <td>8397</td>\n",
       "      <td>NaN</td>\n",
       "    </tr>\n",
       "    <tr>\n",
       "      <th>8</th>\n",
       "      <td>Barcelona</td>\n",
       "      <td>1992</td>\n",
       "      <td>Spain</td>\n",
       "      <td>Summer</td>\n",
       "      <td>257</td>\n",
       "      <td>9356</td>\n",
       "      <td>9.687</td>\n",
       "    </tr>\n",
       "    <tr>\n",
       "      <th>9</th>\n",
       "      <td>Atlanta</td>\n",
       "      <td>1996</td>\n",
       "      <td>United States</td>\n",
       "      <td>Summer</td>\n",
       "      <td>271</td>\n",
       "      <td>10318</td>\n",
       "      <td>4.143</td>\n",
       "    </tr>\n",
       "    <tr>\n",
       "      <th>10</th>\n",
       "      <td>Sydney</td>\n",
       "      <td>2000</td>\n",
       "      <td>Australia</td>\n",
       "      <td>Summer</td>\n",
       "      <td>300</td>\n",
       "      <td>10651</td>\n",
       "      <td>5.026</td>\n",
       "    </tr>\n",
       "    <tr>\n",
       "      <th>11</th>\n",
       "      <td>Athens</td>\n",
       "      <td>2004</td>\n",
       "      <td>Greece</td>\n",
       "      <td>Summer</td>\n",
       "      <td>301</td>\n",
       "      <td>10625</td>\n",
       "      <td>2.942</td>\n",
       "    </tr>\n",
       "    <tr>\n",
       "      <th>12</th>\n",
       "      <td>Beijing</td>\n",
       "      <td>2008</td>\n",
       "      <td>China</td>\n",
       "      <td>Summer</td>\n",
       "      <td>302</td>\n",
       "      <td>10942</td>\n",
       "      <td>6.81</td>\n",
       "    </tr>\n",
       "    <tr>\n",
       "      <th>13</th>\n",
       "      <td>London</td>\n",
       "      <td>2012</td>\n",
       "      <td>United Kingdom</td>\n",
       "      <td>Summer</td>\n",
       "      <td>302</td>\n",
       "      <td>10568</td>\n",
       "      <td>14.957</td>\n",
       "    </tr>\n",
       "    <tr>\n",
       "      <th>14</th>\n",
       "      <td>Rio</td>\n",
       "      <td>2016</td>\n",
       "      <td>Brazil</td>\n",
       "      <td>Summer</td>\n",
       "      <td>306</td>\n",
       "      <td>10500</td>\n",
       "      <td>4.557</td>\n",
       "    </tr>\n",
       "    <tr>\n",
       "      <th>15</th>\n",
       "      <td>Squaw Valley</td>\n",
       "      <td>1960</td>\n",
       "      <td>United States</td>\n",
       "      <td>Winter</td>\n",
       "      <td>27</td>\n",
       "      <td>665</td>\n",
       "      <td>NaN</td>\n",
       "    </tr>\n",
       "    <tr>\n",
       "      <th>16</th>\n",
       "      <td>Innsbruck</td>\n",
       "      <td>1964</td>\n",
       "      <td>Austria</td>\n",
       "      <td>Winter</td>\n",
       "      <td>34</td>\n",
       "      <td>1091</td>\n",
       "      <td>0.022</td>\n",
       "    </tr>\n",
       "    <tr>\n",
       "      <th>17</th>\n",
       "      <td>Grenoble</td>\n",
       "      <td>1968</td>\n",
       "      <td>France</td>\n",
       "      <td>Winter</td>\n",
       "      <td>35</td>\n",
       "      <td>1158</td>\n",
       "      <td>0.888</td>\n",
       "    </tr>\n",
       "    <tr>\n",
       "      <th>18</th>\n",
       "      <td>Sapporo</td>\n",
       "      <td>1972</td>\n",
       "      <td>Japan</td>\n",
       "      <td>Winter</td>\n",
       "      <td>35</td>\n",
       "      <td>1006</td>\n",
       "      <td>0.117</td>\n",
       "    </tr>\n",
       "    <tr>\n",
       "      <th>19</th>\n",
       "      <td>Innsbruck</td>\n",
       "      <td>1976</td>\n",
       "      <td>Austria</td>\n",
       "      <td>Winter</td>\n",
       "      <td>37</td>\n",
       "      <td>1123</td>\n",
       "      <td>0.118</td>\n",
       "    </tr>\n",
       "    <tr>\n",
       "      <th>20</th>\n",
       "      <td>Lake Placid</td>\n",
       "      <td>1980</td>\n",
       "      <td>United States</td>\n",
       "      <td>Winter</td>\n",
       "      <td>38</td>\n",
       "      <td>1072</td>\n",
       "      <td>0.435</td>\n",
       "    </tr>\n",
       "    <tr>\n",
       "      <th>21</th>\n",
       "      <td>Sarajevo</td>\n",
       "      <td>1984</td>\n",
       "      <td>Yugoslavia</td>\n",
       "      <td>Winter</td>\n",
       "      <td>39</td>\n",
       "      <td>1272</td>\n",
       "      <td>n/a**</td>\n",
       "    </tr>\n",
       "    <tr>\n",
       "      <th>22</th>\n",
       "      <td>Calgary</td>\n",
       "      <td>1988</td>\n",
       "      <td>Canada</td>\n",
       "      <td>Winter</td>\n",
       "      <td>46</td>\n",
       "      <td>1432</td>\n",
       "      <td>1.109</td>\n",
       "    </tr>\n",
       "    <tr>\n",
       "      <th>23</th>\n",
       "      <td>Albertville</td>\n",
       "      <td>1992</td>\n",
       "      <td>France</td>\n",
       "      <td>Winter</td>\n",
       "      <td>57</td>\n",
       "      <td>1801</td>\n",
       "      <td>1.997</td>\n",
       "    </tr>\n",
       "    <tr>\n",
       "      <th>24</th>\n",
       "      <td>Lillehammer</td>\n",
       "      <td>1994</td>\n",
       "      <td>Norway</td>\n",
       "      <td>Winter</td>\n",
       "      <td>61</td>\n",
       "      <td>1737</td>\n",
       "      <td>2.228</td>\n",
       "    </tr>\n",
       "    <tr>\n",
       "      <th>25</th>\n",
       "      <td>Nagano</td>\n",
       "      <td>1998</td>\n",
       "      <td>Japan</td>\n",
       "      <td>Winter</td>\n",
       "      <td>68</td>\n",
       "      <td>2176</td>\n",
       "      <td>2.227</td>\n",
       "    </tr>\n",
       "    <tr>\n",
       "      <th>26</th>\n",
       "      <td>Salt Lake City</td>\n",
       "      <td>2002</td>\n",
       "      <td>United States</td>\n",
       "      <td>Winter</td>\n",
       "      <td>78</td>\n",
       "      <td>2399</td>\n",
       "      <td>2.52</td>\n",
       "    </tr>\n",
       "    <tr>\n",
       "      <th>27</th>\n",
       "      <td>Torino</td>\n",
       "      <td>2006</td>\n",
       "      <td>Italy</td>\n",
       "      <td>Winter</td>\n",
       "      <td>84</td>\n",
       "      <td>2508</td>\n",
       "      <td>4.366</td>\n",
       "    </tr>\n",
       "    <tr>\n",
       "      <th>28</th>\n",
       "      <td>Vancouver</td>\n",
       "      <td>2010</td>\n",
       "      <td>Canada</td>\n",
       "      <td>Winter</td>\n",
       "      <td>86</td>\n",
       "      <td>2566</td>\n",
       "      <td>2.54</td>\n",
       "    </tr>\n",
       "    <tr>\n",
       "      <th>29</th>\n",
       "      <td>Sochi</td>\n",
       "      <td>2014</td>\n",
       "      <td>Russia</td>\n",
       "      <td>Winter</td>\n",
       "      <td>98</td>\n",
       "      <td>2780</td>\n",
       "      <td>21.89</td>\n",
       "    </tr>\n",
       "  </tbody>\n",
       "</table>\n",
       "</div>"
      ],
      "text/plain": [
       "             Games  Year         Country    Type  Events  Athletes  \\\n",
       "0             Rome  1960           Italy  Summer     150      5338   \n",
       "1            Tokyo  1964           Japan  Summer     163      5152   \n",
       "2      Mexico City  1968          Mexico  Summer     172      5516   \n",
       "3           Munich  1972         Germany  Summer     195      7234   \n",
       "4         Montreal  1976          Canada  Summer     198      6048   \n",
       "5           Moscow  1980          Russia  Summer     203      5179   \n",
       "6      Los Angeles  1984   United States  Summer     221      6829   \n",
       "7            Seoul  1988     South Korea  Summer     237      8397   \n",
       "8        Barcelona  1992           Spain  Summer     257      9356   \n",
       "9          Atlanta  1996   United States  Summer     271     10318   \n",
       "10          Sydney  2000       Australia  Summer     300     10651   \n",
       "11          Athens  2004          Greece  Summer     301     10625   \n",
       "12         Beijing  2008           China  Summer     302     10942   \n",
       "13          London  2012  United Kingdom  Summer     302     10568   \n",
       "14             Rio  2016          Brazil  Summer     306     10500   \n",
       "15    Squaw Valley  1960   United States  Winter      27       665   \n",
       "16       Innsbruck  1964         Austria  Winter      34      1091   \n",
       "17        Grenoble  1968          France  Winter      35      1158   \n",
       "18         Sapporo  1972           Japan  Winter      35      1006   \n",
       "19       Innsbruck  1976         Austria  Winter      37      1123   \n",
       "20     Lake Placid  1980   United States  Winter      38      1072   \n",
       "21        Sarajevo  1984      Yugoslavia  Winter      39      1272   \n",
       "22         Calgary  1988          Canada  Winter      46      1432   \n",
       "23     Albertville  1992          France  Winter      57      1801   \n",
       "24     Lillehammer  1994          Norway  Winter      61      1737   \n",
       "25          Nagano  1998           Japan  Winter      68      2176   \n",
       "26  Salt Lake City  2002   United States  Winter      78      2399   \n",
       "27          Torino  2006           Italy  Winter      84      2508   \n",
       "28       Vancouver  2010          Canada  Winter      86      2566   \n",
       "29           Sochi  2014          Russia  Winter      98      2780   \n",
       "\n",
       "   Cost, Billion USD  \n",
       "0                NaN  \n",
       "1              0.282  \n",
       "2              n/a**  \n",
       "3              1.009  \n",
       "4              6.093  \n",
       "5              6.331  \n",
       "6              0.719  \n",
       "7                NaN  \n",
       "8              9.687  \n",
       "9              4.143  \n",
       "10             5.026  \n",
       "11             2.942  \n",
       "12              6.81  \n",
       "13            14.957  \n",
       "14             4.557  \n",
       "15               NaN  \n",
       "16             0.022  \n",
       "17             0.888  \n",
       "18             0.117  \n",
       "19             0.118  \n",
       "20             0.435  \n",
       "21             n/a**  \n",
       "22             1.109  \n",
       "23             1.997  \n",
       "24             2.228  \n",
       "25             2.227  \n",
       "26              2.52  \n",
       "27             4.366  \n",
       "28              2.54  \n",
       "29             21.89  "
      ]
     },
     "execution_count": 31,
     "metadata": {},
     "output_type": "execute_result"
    }
   ],
   "source": [
    "ot.head(5)\n",
    "ot.replace('Soviet Union', 'Russia')"
   ]
  },
  {
   "cell_type": "markdown",
   "metadata": {},
   "source": [
    "Action: Getting the value counts for \"country\"\n",
    "Result: I can now see clearly how many times each country has hosted an Olympic game."
   ]
  },
  {
   "cell_type": "code",
   "execution_count": 32,
   "metadata": {},
   "outputs": [
    {
     "data": {
      "text/plain": [
       "United States     5\n",
       "Canada            3\n",
       "Japan             3\n",
       "France            2\n",
       "Austria           2\n",
       "Italy             2\n",
       "United Kingdom    1\n",
       "China             1\n",
       "Brazil            1\n",
       "Yugoslavia        1\n",
       "Mexico            1\n",
       "South Korea       1\n",
       "Norway            1\n",
       "Spain             1\n",
       "Australia         1\n",
       "Russia            1\n",
       "Germany           1\n",
       "Soviet Union      1\n",
       "Greece            1\n",
       "Name: Country, dtype: int64"
      ]
     },
     "execution_count": 32,
     "metadata": {},
     "output_type": "execute_result"
    }
   ],
   "source": [
    "ot['Country'].value_counts()\n"
   ]
  },
  {
   "cell_type": "markdown",
   "metadata": {},
   "source": [
    "Action: renaming the value counts variable\n",
    "Result: I will be able to use the newly named variable to plot seamlessly."
   ]
  },
  {
   "cell_type": "code",
   "execution_count": 33,
   "metadata": {},
   "outputs": [
    {
     "data": {
      "text/plain": [
       "United States     5\n",
       "Canada            3\n",
       "Japan             3\n",
       "France            2\n",
       "Austria           2\n",
       "Italy             2\n",
       "United Kingdom    1\n",
       "China             1\n",
       "Brazil            1\n",
       "Yugoslavia        1\n",
       "Mexico            1\n",
       "South Korea       1\n",
       "Norway            1\n",
       "Spain             1\n",
       "Australia         1\n",
       "Russia            1\n",
       "Germany           1\n",
       "Soviet Union      1\n",
       "Greece            1\n",
       "Name: Country, dtype: int64"
      ]
     },
     "execution_count": 33,
     "metadata": {},
     "output_type": "execute_result"
    }
   ],
   "source": [
    "Host_Count = ot['Country'].value_counts()\n",
    "Host_Count\n"
   ]
  },
  {
   "cell_type": "markdown",
   "metadata": {},
   "source": [
    "Action: Renaming the column names \n",
    "Result: This will help me have appropriately labeled X and Y axises when I plot my data shortly."
   ]
  },
  {
   "cell_type": "code",
   "execution_count": 34,
   "metadata": {},
   "outputs": [
    {
     "data": {
      "text/html": [
       "<div>\n",
       "<style scoped>\n",
       "    .dataframe tbody tr th:only-of-type {\n",
       "        vertical-align: middle;\n",
       "    }\n",
       "\n",
       "    .dataframe tbody tr th {\n",
       "        vertical-align: top;\n",
       "    }\n",
       "\n",
       "    .dataframe thead th {\n",
       "        text-align: right;\n",
       "    }\n",
       "</style>\n",
       "<table border=\"1\" class=\"dataframe\">\n",
       "  <thead>\n",
       "    <tr style=\"text-align: right;\">\n",
       "      <th></th>\n",
       "      <th>index</th>\n",
       "      <th>Country</th>\n",
       "    </tr>\n",
       "  </thead>\n",
       "  <tbody>\n",
       "    <tr>\n",
       "      <th>0</th>\n",
       "      <td>United States</td>\n",
       "      <td>5</td>\n",
       "    </tr>\n",
       "    <tr>\n",
       "      <th>1</th>\n",
       "      <td>Canada</td>\n",
       "      <td>3</td>\n",
       "    </tr>\n",
       "    <tr>\n",
       "      <th>2</th>\n",
       "      <td>Japan</td>\n",
       "      <td>3</td>\n",
       "    </tr>\n",
       "    <tr>\n",
       "      <th>3</th>\n",
       "      <td>France</td>\n",
       "      <td>2</td>\n",
       "    </tr>\n",
       "    <tr>\n",
       "      <th>4</th>\n",
       "      <td>Austria</td>\n",
       "      <td>2</td>\n",
       "    </tr>\n",
       "    <tr>\n",
       "      <th>5</th>\n",
       "      <td>Italy</td>\n",
       "      <td>2</td>\n",
       "    </tr>\n",
       "    <tr>\n",
       "      <th>6</th>\n",
       "      <td>United Kingdom</td>\n",
       "      <td>1</td>\n",
       "    </tr>\n",
       "    <tr>\n",
       "      <th>7</th>\n",
       "      <td>China</td>\n",
       "      <td>1</td>\n",
       "    </tr>\n",
       "    <tr>\n",
       "      <th>8</th>\n",
       "      <td>Brazil</td>\n",
       "      <td>1</td>\n",
       "    </tr>\n",
       "    <tr>\n",
       "      <th>9</th>\n",
       "      <td>Yugoslavia</td>\n",
       "      <td>1</td>\n",
       "    </tr>\n",
       "    <tr>\n",
       "      <th>10</th>\n",
       "      <td>Mexico</td>\n",
       "      <td>1</td>\n",
       "    </tr>\n",
       "    <tr>\n",
       "      <th>11</th>\n",
       "      <td>South Korea</td>\n",
       "      <td>1</td>\n",
       "    </tr>\n",
       "    <tr>\n",
       "      <th>12</th>\n",
       "      <td>Norway</td>\n",
       "      <td>1</td>\n",
       "    </tr>\n",
       "    <tr>\n",
       "      <th>13</th>\n",
       "      <td>Spain</td>\n",
       "      <td>1</td>\n",
       "    </tr>\n",
       "    <tr>\n",
       "      <th>14</th>\n",
       "      <td>Australia</td>\n",
       "      <td>1</td>\n",
       "    </tr>\n",
       "    <tr>\n",
       "      <th>15</th>\n",
       "      <td>Russia</td>\n",
       "      <td>1</td>\n",
       "    </tr>\n",
       "    <tr>\n",
       "      <th>16</th>\n",
       "      <td>Germany</td>\n",
       "      <td>1</td>\n",
       "    </tr>\n",
       "    <tr>\n",
       "      <th>17</th>\n",
       "      <td>Soviet Union</td>\n",
       "      <td>1</td>\n",
       "    </tr>\n",
       "    <tr>\n",
       "      <th>18</th>\n",
       "      <td>Greece</td>\n",
       "      <td>1</td>\n",
       "    </tr>\n",
       "  </tbody>\n",
       "</table>\n",
       "</div>"
      ],
      "text/plain": [
       "             index  Country\n",
       "0    United States        5\n",
       "1           Canada        3\n",
       "2            Japan        3\n",
       "3           France        2\n",
       "4          Austria        2\n",
       "5            Italy        2\n",
       "6   United Kingdom        1\n",
       "7            China        1\n",
       "8           Brazil        1\n",
       "9       Yugoslavia        1\n",
       "10          Mexico        1\n",
       "11     South Korea        1\n",
       "12          Norway        1\n",
       "13           Spain        1\n",
       "14       Australia        1\n",
       "15          Russia        1\n",
       "16         Germany        1\n",
       "17    Soviet Union        1\n",
       "18          Greece        1"
      ]
     },
     "execution_count": 34,
     "metadata": {},
     "output_type": "execute_result"
    }
   ],
   "source": [
    "Host_Count = Host_Count.reset_index()\n",
    "Host_Count"
   ]
  },
  {
   "cell_type": "code",
   "execution_count": 35,
   "metadata": {},
   "outputs": [
    {
     "data": {
      "text/plain": [
       "['index', 'Country']"
      ]
     },
     "execution_count": 35,
     "metadata": {},
     "output_type": "execute_result"
    }
   ],
   "source": [
    "Host_Count.columns.to_list()"
   ]
  },
  {
   "cell_type": "code",
   "execution_count": 36,
   "metadata": {},
   "outputs": [
    {
     "data": {
      "text/html": [
       "<div>\n",
       "<style scoped>\n",
       "    .dataframe tbody tr th:only-of-type {\n",
       "        vertical-align: middle;\n",
       "    }\n",
       "\n",
       "    .dataframe tbody tr th {\n",
       "        vertical-align: top;\n",
       "    }\n",
       "\n",
       "    .dataframe thead th {\n",
       "        text-align: right;\n",
       "    }\n",
       "</style>\n",
       "<table border=\"1\" class=\"dataframe\">\n",
       "  <thead>\n",
       "    <tr style=\"text-align: right;\">\n",
       "      <th></th>\n",
       "      <th>Country</th>\n",
       "      <th>Count</th>\n",
       "    </tr>\n",
       "  </thead>\n",
       "  <tbody>\n",
       "    <tr>\n",
       "      <th>0</th>\n",
       "      <td>United States</td>\n",
       "      <td>5</td>\n",
       "    </tr>\n",
       "    <tr>\n",
       "      <th>1</th>\n",
       "      <td>Canada</td>\n",
       "      <td>3</td>\n",
       "    </tr>\n",
       "    <tr>\n",
       "      <th>2</th>\n",
       "      <td>Japan</td>\n",
       "      <td>3</td>\n",
       "    </tr>\n",
       "    <tr>\n",
       "      <th>3</th>\n",
       "      <td>France</td>\n",
       "      <td>2</td>\n",
       "    </tr>\n",
       "    <tr>\n",
       "      <th>4</th>\n",
       "      <td>Austria</td>\n",
       "      <td>2</td>\n",
       "    </tr>\n",
       "    <tr>\n",
       "      <th>5</th>\n",
       "      <td>Italy</td>\n",
       "      <td>2</td>\n",
       "    </tr>\n",
       "    <tr>\n",
       "      <th>6</th>\n",
       "      <td>United Kingdom</td>\n",
       "      <td>1</td>\n",
       "    </tr>\n",
       "    <tr>\n",
       "      <th>7</th>\n",
       "      <td>China</td>\n",
       "      <td>1</td>\n",
       "    </tr>\n",
       "    <tr>\n",
       "      <th>8</th>\n",
       "      <td>Brazil</td>\n",
       "      <td>1</td>\n",
       "    </tr>\n",
       "    <tr>\n",
       "      <th>9</th>\n",
       "      <td>Yugoslavia</td>\n",
       "      <td>1</td>\n",
       "    </tr>\n",
       "    <tr>\n",
       "      <th>10</th>\n",
       "      <td>Mexico</td>\n",
       "      <td>1</td>\n",
       "    </tr>\n",
       "    <tr>\n",
       "      <th>11</th>\n",
       "      <td>South Korea</td>\n",
       "      <td>1</td>\n",
       "    </tr>\n",
       "    <tr>\n",
       "      <th>12</th>\n",
       "      <td>Norway</td>\n",
       "      <td>1</td>\n",
       "    </tr>\n",
       "    <tr>\n",
       "      <th>13</th>\n",
       "      <td>Spain</td>\n",
       "      <td>1</td>\n",
       "    </tr>\n",
       "    <tr>\n",
       "      <th>14</th>\n",
       "      <td>Australia</td>\n",
       "      <td>1</td>\n",
       "    </tr>\n",
       "    <tr>\n",
       "      <th>15</th>\n",
       "      <td>Russia</td>\n",
       "      <td>1</td>\n",
       "    </tr>\n",
       "    <tr>\n",
       "      <th>16</th>\n",
       "      <td>Germany</td>\n",
       "      <td>1</td>\n",
       "    </tr>\n",
       "    <tr>\n",
       "      <th>17</th>\n",
       "      <td>Soviet Union</td>\n",
       "      <td>1</td>\n",
       "    </tr>\n",
       "    <tr>\n",
       "      <th>18</th>\n",
       "      <td>Greece</td>\n",
       "      <td>1</td>\n",
       "    </tr>\n",
       "  </tbody>\n",
       "</table>\n",
       "</div>"
      ],
      "text/plain": [
       "           Country  Count\n",
       "0    United States      5\n",
       "1           Canada      3\n",
       "2            Japan      3\n",
       "3           France      2\n",
       "4          Austria      2\n",
       "5            Italy      2\n",
       "6   United Kingdom      1\n",
       "7            China      1\n",
       "8           Brazil      1\n",
       "9       Yugoslavia      1\n",
       "10          Mexico      1\n",
       "11     South Korea      1\n",
       "12          Norway      1\n",
       "13           Spain      1\n",
       "14       Australia      1\n",
       "15          Russia      1\n",
       "16         Germany      1\n",
       "17    Soviet Union      1\n",
       "18          Greece      1"
      ]
     },
     "execution_count": 36,
     "metadata": {},
     "output_type": "execute_result"
    }
   ],
   "source": [
    "Host_Count.columns = ['Country', 'Count']\n",
    "Host_Count"
   ]
  },
  {
   "cell_type": "markdown",
   "metadata": {},
   "source": [
    "Action: PLotting my data\n",
    "Result: Being able to visualize the data to better understand it."
   ]
  },
  {
   "cell_type": "code",
   "execution_count": 37,
   "metadata": {},
   "outputs": [
    {
     "data": {
      "text/plain": [
       "<matplotlib.axes._subplots.AxesSubplot at 0x7fcf248bd100>"
      ]
     },
     "execution_count": 37,
     "metadata": {},
     "output_type": "execute_result"
    },
    {
     "data": {
      "image/png": "[encoded data removed]",
      "text/plain": [
       "<Figure size 432x288 with 1 Axes>"
      ]
     },
     "metadata": {
      "needs_background": "light"
     },
     "output_type": "display_data"
    }
   ],
   "source": [
    "Host_Count.plot.bar()"
   ]
  },
  {
   "cell_type": "markdown",
   "metadata": {},
   "source": [
    "Action:  Revaluating the data so that it is in descending format and with the proper numbers for each country.\n",
    "Result: This will create a correctly labeled graph in descending order, which will be nicer to read."
   ]
  },
  {
   "cell_type": "code",
   "execution_count": 38,
   "metadata": {},
   "outputs": [
    {
     "data": {
      "text/plain": [
       "United States     5\n",
       "Canada            3\n",
       "Japan             3\n",
       "France            2\n",
       "Austria           2\n",
       "Italy             2\n",
       "Brazil            1\n",
       "United Kingdom    1\n",
       "China             1\n",
       "Greece            1\n",
       "Soviet Union      1\n",
       "Mexico            1\n",
       "South Korea       1\n",
       "Norway            1\n",
       "Spain             1\n",
       "Australia         1\n",
       "Russia            1\n",
       "Germany           1\n",
       "Yugoslavia        1\n",
       "Name: Country, dtype: int64"
      ]
     },
     "execution_count": 38,
     "metadata": {},
     "output_type": "execute_result"
    }
   ],
   "source": [
    "top20 = ot[\"Country\"].value_counts()\n",
    "top20.sort_values(ascending=False)"
   ]
  },
  {
   "cell_type": "markdown",
   "metadata": {},
   "source": [
    "Action: Putting a title on our data and making sure it is clean and easy to read.\n",
    "Result: Having easy tor ead and proffesional looking data will be ready to publish or use for projects.\n",
    "It is imperative that data is easy to read, or else its purpose will be invalidated."
   ]
  },
  {
   "cell_type": "code",
   "execution_count": 39,
   "metadata": {},
   "outputs": [
    {
     "data": {
      "text/plain": [
       "Text(0.5, 1.0, 'The Times Countries have Hosted The Olympics')"
      ]
     },
     "execution_count": 39,
     "metadata": {},
     "output_type": "execute_result"
    },
    {
     "data": {
      "image/png": "[encoded data removed]",
      "text/plain": [
       "<Figure size 432x288 with 1 Axes>"
      ]
     },
     "metadata": {
      "needs_background": "light"
     },
     "output_type": "display_data"
    }
   ],
   "source": [
    "top20 = top20[:20]\n",
    "top20.plot(kind=\"bar\")\n",
    "plt.title('The Times Countries have Hosted The Olympics',fontsize=20)"
   ]
  },
  {
   "cell_type": "markdown",
   "metadata": {},
   "source": [
    "Final thoughts: Ultimately, I think it was really interesting to visualize the countries who payed the most per event and per athlete in addition to seeing that those prices are going up. This data will be useful later in helping us understand deeper the economic and social impacts of the Olympics on host countries. We can already see that the games cost and enormous amount, and that predominently \"western\" countries have hosted them (look at graph above). If from other datasources we know that less and less of these more developed countries are stopping trying to host the Olympics, this could mean grave news for the games down the road."
   ]
  }
 ],
 "metadata": {
  "kernelspec": {
   "display_name": "Python 3",
   "language": "python",
   "name": "python3"
  },
  "language_info": {
   "codemirror_mode": {
    "name": "ipython",
    "version": 3
   },
   "file_extension": ".py",
   "mimetype": "text/x-python",
   "name": "python",
   "nbconvert_exporter": "python",
   "pygments_lexer": "ipython3",
   "version": "3.8.5"
  },
  "toc": {
   "base_numbering": 1,
   "nav_menu": {},
   "number_sections": true,
   "sideBar": true,
   "skip_h1_title": false,
   "title_cell": "Table of Contents",
   "title_sidebar": "Contents",
   "toc_cell": false,
   "toc_position": {},
   "toc_section_display": true,
   "toc_window_display": false
  }
 },
 "nbformat": 4,
 "nbformat_minor": 4
}
